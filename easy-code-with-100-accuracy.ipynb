{
 "cells": [
  {
   "cell_type": "code",
   "execution_count": 1,
   "id": "4e0a01f4",
   "metadata": {
    "_cell_guid": "b1076dfc-b9ad-4769-8c92-a6c4dae69d19",
    "_uuid": "8f2839f25d086af736a60e9eeb907d3b93b6e0e5",
    "execution": {
     "iopub.execute_input": "2022-07-28T04:54:37.179874Z",
     "iopub.status.busy": "2022-07-28T04:54:37.179329Z",
     "iopub.status.idle": "2022-07-28T04:54:37.214422Z",
     "shell.execute_reply": "2022-07-28T04:54:37.213510Z"
    },
    "papermill": {
     "duration": 0.045553,
     "end_time": "2022-07-28T04:54:37.217350",
     "exception": false,
     "start_time": "2022-07-28T04:54:37.171797",
     "status": "completed"
    },
    "tags": []
   },
   "outputs": [
    {
     "name": "stdout",
     "output_type": "stream",
     "text": [
      "/kaggle/input/sign-language-mnist/sign_mnist_test.csv\n",
      "/kaggle/input/sign-language-mnist/amer_sign2.png\n",
      "/kaggle/input/sign-language-mnist/amer_sign3.png\n",
      "/kaggle/input/sign-language-mnist/sign_mnist_train.csv\n",
      "/kaggle/input/sign-language-mnist/american_sign_language.PNG\n",
      "/kaggle/input/sign-language-mnist/sign_mnist_test/sign_mnist_test.csv\n",
      "/kaggle/input/sign-language-mnist/sign_mnist_train/sign_mnist_train.csv\n"
     ]
    }
   ],
   "source": [
    "# This Python 3 environment comes with many helpful analytics libraries installed\n",
    "# It is defined by the kaggle/python Docker image: https://github.com/kaggle/docker-python\n",
    "# For example, here's several helpful packages to load\n",
    "\n",
    "import numpy as np # linear algebra\n",
    "import pandas as pd # data processing, CSV file I/O (e.g. pd.read_csv)\n",
    "\n",
    "# Input data files are available in the read-only \"../input/\" directory\n",
    "# For example, running this (by clicking run or pressing Shift+Enter) will list all files under the input directory\n",
    "\n",
    "import os\n",
    "for dirname, _, filenames in os.walk('/kaggle/input'):\n",
    "    for filename in filenames:\n",
    "        print(os.path.join(dirname, filename))\n",
    "\n",
    "# You can write up to 20GB to the current directory (/kaggle/working/) that gets preserved as output when you create a version using \"Save & Run All\" \n",
    "# You can also write temporary files to /kaggle/temp/, but they won't be saved outside of the current session"
   ]
  },
  {
   "cell_type": "code",
   "execution_count": 2,
   "id": "11cf5711",
   "metadata": {
    "execution": {
     "iopub.execute_input": "2022-07-28T04:54:37.229421Z",
     "iopub.status.busy": "2022-07-28T04:54:37.228685Z",
     "iopub.status.idle": "2022-07-28T04:54:40.708374Z",
     "shell.execute_reply": "2022-07-28T04:54:40.707508Z"
    },
    "papermill": {
     "duration": 3.487022,
     "end_time": "2022-07-28T04:54:40.710384",
     "exception": false,
     "start_time": "2022-07-28T04:54:37.223362",
     "status": "completed"
    },
    "tags": []
   },
   "outputs": [],
   "source": [
    "# importing the data set as csv file from the directory\n",
    "training = pd.read_csv('../input/sign-language-mnist/sign_mnist_train/sign_mnist_train.csv')\n"
   ]
  },
  {
   "cell_type": "code",
   "execution_count": 3,
   "id": "947ae68d",
   "metadata": {
    "execution": {
     "iopub.execute_input": "2022-07-28T04:54:40.720563Z",
     "iopub.status.busy": "2022-07-28T04:54:40.720283Z",
     "iopub.status.idle": "2022-07-28T04:54:40.782772Z",
     "shell.execute_reply": "2022-07-28T04:54:40.781971Z"
    },
    "papermill": {
     "duration": 0.069798,
     "end_time": "2022-07-28T04:54:40.784871",
     "exception": false,
     "start_time": "2022-07-28T04:54:40.715073",
     "status": "completed"
    },
    "tags": []
   },
   "outputs": [],
   "source": [
    "# splitting the features and the labels\n",
    "X_train = training.drop('label', axis=1)\n",
    "y_train = training['label']"
   ]
  },
  {
   "cell_type": "code",
   "execution_count": 4,
   "id": "2875301b",
   "metadata": {
    "execution": {
     "iopub.execute_input": "2022-07-28T04:54:40.795115Z",
     "iopub.status.busy": "2022-07-28T04:54:40.794813Z",
     "iopub.status.idle": "2022-07-28T04:54:40.801368Z",
     "shell.execute_reply": "2022-07-28T04:54:40.800635Z"
    },
    "papermill": {
     "duration": 0.01395,
     "end_time": "2022-07-28T04:54:40.803467",
     "exception": false,
     "start_time": "2022-07-28T04:54:40.789517",
     "status": "completed"
    },
    "tags": []
   },
   "outputs": [
    {
     "data": {
      "text/plain": [
       "(27455, 785)"
      ]
     },
     "execution_count": 4,
     "metadata": {},
     "output_type": "execute_result"
    }
   ],
   "source": [
    "# Displaying the shape of the images\n",
    "training.shape"
   ]
  },
  {
   "cell_type": "code",
   "execution_count": 5,
   "id": "2b1e3ef0",
   "metadata": {
    "execution": {
     "iopub.execute_input": "2022-07-28T04:54:40.813788Z",
     "iopub.status.busy": "2022-07-28T04:54:40.813284Z",
     "iopub.status.idle": "2022-07-28T04:54:45.604503Z",
     "shell.execute_reply": "2022-07-28T04:54:45.603683Z"
    },
    "papermill": {
     "duration": 4.798598,
     "end_time": "2022-07-28T04:54:45.606581",
     "exception": false,
     "start_time": "2022-07-28T04:54:40.807983",
     "status": "completed"
    },
    "tags": []
   },
   "outputs": [],
   "source": [
    "# using the to_categorical function to one hot encode the labels\n",
    "from keras.utils.np_utils import to_categorical\n",
    "y_train = to_categorical(y_train, num_classes = 25)"
   ]
  },
  {
   "cell_type": "code",
   "execution_count": 6,
   "id": "84982506",
   "metadata": {
    "execution": {
     "iopub.execute_input": "2022-07-28T04:54:45.617480Z",
     "iopub.status.busy": "2022-07-28T04:54:45.616943Z",
     "iopub.status.idle": "2022-07-28T04:54:45.621357Z",
     "shell.execute_reply": "2022-07-28T04:54:45.620495Z"
    },
    "papermill": {
     "duration": 0.011951,
     "end_time": "2022-07-28T04:54:45.623280",
     "exception": false,
     "start_time": "2022-07-28T04:54:45.611329",
     "status": "completed"
    },
    "tags": []
   },
   "outputs": [],
   "source": [
    "# reshaping the features to make them suitable for training\n",
    "X_train = X_train.values.reshape(-1, 28, 28, 1)"
   ]
  },
  {
   "cell_type": "code",
   "execution_count": 7,
   "id": "4194eb51",
   "metadata": {
    "execution": {
     "iopub.execute_input": "2022-07-28T04:54:45.633328Z",
     "iopub.status.busy": "2022-07-28T04:54:45.633047Z",
     "iopub.status.idle": "2022-07-28T04:54:45.703776Z",
     "shell.execute_reply": "2022-07-28T04:54:45.702758Z"
    },
    "papermill": {
     "duration": 0.078147,
     "end_time": "2022-07-28T04:54:45.705908",
     "exception": false,
     "start_time": "2022-07-28T04:54:45.627761",
     "status": "completed"
    },
    "tags": []
   },
   "outputs": [],
   "source": [
    "# rescaling the features \n",
    "X_train = X_train / 255.0"
   ]
  },
  {
   "cell_type": "code",
   "execution_count": 8,
   "id": "3b6a6a98",
   "metadata": {
    "execution": {
     "iopub.execute_input": "2022-07-28T04:54:45.716519Z",
     "iopub.status.busy": "2022-07-28T04:54:45.716222Z",
     "iopub.status.idle": "2022-07-28T04:54:45.721591Z",
     "shell.execute_reply": "2022-07-28T04:54:45.720873Z"
    },
    "papermill": {
     "duration": 0.012503,
     "end_time": "2022-07-28T04:54:45.723232",
     "exception": false,
     "start_time": "2022-07-28T04:54:45.710729",
     "status": "completed"
    },
    "tags": []
   },
   "outputs": [],
   "source": [
    "import keras\n",
    "from keras.preprocessing.image import ImageDataGenerator\n",
    "\n",
    "training_gen = ImageDataGenerator(\n",
    "        featurewise_center=False,  # set input mean to 0 over the dataset\n",
    "        samplewise_center=False,  # set each sample mean to 0\n",
    "        featurewise_std_normalization=False,  # divide inputs by std of the dataset\n",
    "        samplewise_std_normalization=False,  # divide each input by its std\n",
    "        zca_whitening=False,  # apply ZCA whitening\n",
    "        rotation_range=10,  # randomly rotate images in the range (degrees, 0 to 180)\n",
    "        zoom_range = 0.1, # Randomly zoom image \n",
    "        width_shift_range=0.1,  # randomly shift images horizontally (fraction of total width)\n",
    "        height_shift_range=0.1,  # randomly shift images vertically (fraction of total height)\n",
    "        horizontal_flip=False,  # randomly flip images\n",
    "        vertical_flip=False # randomly flip images\n",
    ") "
   ]
  },
  {
   "cell_type": "code",
   "execution_count": 9,
   "id": "655dc44b",
   "metadata": {
    "execution": {
     "iopub.execute_input": "2022-07-28T04:54:45.733412Z",
     "iopub.status.busy": "2022-07-28T04:54:45.732833Z",
     "iopub.status.idle": "2022-07-28T04:54:46.708399Z",
     "shell.execute_reply": "2022-07-28T04:54:46.707552Z"
    },
    "papermill": {
     "duration": 0.982969,
     "end_time": "2022-07-28T04:54:46.710644",
     "exception": false,
     "start_time": "2022-07-28T04:54:45.727675",
     "status": "completed"
    },
    "tags": []
   },
   "outputs": [],
   "source": [
    "# Splitting the training data into training and validation data\n",
    "from sklearn.model_selection import train_test_split\n",
    "X_train, X_val, y_train, y_val = train_test_split(X_train, y_train, test_size=0.2, shuffle=True)"
   ]
  },
  {
   "cell_type": "code",
   "execution_count": 10,
   "id": "e8ddb5e2",
   "metadata": {
    "execution": {
     "iopub.execute_input": "2022-07-28T04:54:46.721377Z",
     "iopub.status.busy": "2022-07-28T04:54:46.721053Z",
     "iopub.status.idle": "2022-07-28T04:54:46.776895Z",
     "shell.execute_reply": "2022-07-28T04:54:46.776101Z"
    },
    "papermill": {
     "duration": 0.063468,
     "end_time": "2022-07-28T04:54:46.778900",
     "exception": false,
     "start_time": "2022-07-28T04:54:46.715432",
     "status": "completed"
    },
    "tags": []
   },
   "outputs": [],
   "source": [
    "training_gen.fit(X_train)"
   ]
  },
  {
   "cell_type": "code",
   "execution_count": 11,
   "id": "7379b702",
   "metadata": {
    "execution": {
     "iopub.execute_input": "2022-07-28T04:54:46.789716Z",
     "iopub.status.busy": "2022-07-28T04:54:46.789395Z",
     "iopub.status.idle": "2022-07-28T04:54:47.140085Z",
     "shell.execute_reply": "2022-07-28T04:54:47.139280Z"
    },
    "papermill": {
     "duration": 0.358364,
     "end_time": "2022-07-28T04:54:47.142298",
     "exception": false,
     "start_time": "2022-07-28T04:54:46.783934",
     "status": "completed"
    },
    "tags": []
   },
   "outputs": [],
   "source": [
    "# Importing the needed modules.\n",
    "from tensorflow.keras.models import Sequential\n",
    "from tensorflow.keras.layers import Dense, Dropout, Flatten, Conv2D, MaxPool2D, BatchNormalization\n",
    "from tensorflow.keras.callbacks import ReduceLROnPlateau\n",
    "from tensorflow.keras.optimizers import RMSprop"
   ]
  },
  {
   "cell_type": "code",
   "execution_count": 12,
   "id": "9c522ab0",
   "metadata": {
    "execution": {
     "iopub.execute_input": "2022-07-28T04:54:47.154312Z",
     "iopub.status.busy": "2022-07-28T04:54:47.153548Z",
     "iopub.status.idle": "2022-07-28T04:54:49.837741Z",
     "shell.execute_reply": "2022-07-28T04:54:49.836815Z"
    },
    "papermill": {
     "duration": 2.693127,
     "end_time": "2022-07-28T04:54:49.840196",
     "exception": false,
     "start_time": "2022-07-28T04:54:47.147069",
     "status": "completed"
    },
    "tags": []
   },
   "outputs": [
    {
     "name": "stderr",
     "output_type": "stream",
     "text": [
      "2022-07-28 04:54:47.261281: I tensorflow/stream_executor/cuda/cuda_gpu_executor.cc:937] successful NUMA node read from SysFS had negative value (-1), but there must be at least one NUMA node, so returning NUMA node zero\n",
      "2022-07-28 04:54:47.367748: I tensorflow/stream_executor/cuda/cuda_gpu_executor.cc:937] successful NUMA node read from SysFS had negative value (-1), but there must be at least one NUMA node, so returning NUMA node zero\n",
      "2022-07-28 04:54:47.368626: I tensorflow/stream_executor/cuda/cuda_gpu_executor.cc:937] successful NUMA node read from SysFS had negative value (-1), but there must be at least one NUMA node, so returning NUMA node zero\n",
      "2022-07-28 04:54:47.370386: I tensorflow/core/platform/cpu_feature_guard.cc:142] This TensorFlow binary is optimized with oneAPI Deep Neural Network Library (oneDNN) to use the following CPU instructions in performance-critical operations:  AVX2 AVX512F FMA\n",
      "To enable them in other operations, rebuild TensorFlow with the appropriate compiler flags.\n",
      "2022-07-28 04:54:47.370700: I tensorflow/stream_executor/cuda/cuda_gpu_executor.cc:937] successful NUMA node read from SysFS had negative value (-1), but there must be at least one NUMA node, so returning NUMA node zero\n",
      "2022-07-28 04:54:47.371408: I tensorflow/stream_executor/cuda/cuda_gpu_executor.cc:937] successful NUMA node read from SysFS had negative value (-1), but there must be at least one NUMA node, so returning NUMA node zero\n",
      "2022-07-28 04:54:47.372046: I tensorflow/stream_executor/cuda/cuda_gpu_executor.cc:937] successful NUMA node read from SysFS had negative value (-1), but there must be at least one NUMA node, so returning NUMA node zero\n",
      "2022-07-28 04:54:49.394876: I tensorflow/stream_executor/cuda/cuda_gpu_executor.cc:937] successful NUMA node read from SysFS had negative value (-1), but there must be at least one NUMA node, so returning NUMA node zero\n",
      "2022-07-28 04:54:49.395756: I tensorflow/stream_executor/cuda/cuda_gpu_executor.cc:937] successful NUMA node read from SysFS had negative value (-1), but there must be at least one NUMA node, so returning NUMA node zero\n",
      "2022-07-28 04:54:49.396422: I tensorflow/stream_executor/cuda/cuda_gpu_executor.cc:937] successful NUMA node read from SysFS had negative value (-1), but there must be at least one NUMA node, so returning NUMA node zero\n",
      "2022-07-28 04:54:49.396995: I tensorflow/core/common_runtime/gpu/gpu_device.cc:1510] Created device /job:localhost/replica:0/task:0/device:GPU:0 with 15403 MB memory:  -> device: 0, name: Tesla P100-PCIE-16GB, pci bus id: 0000:00:04.0, compute capability: 6.0\n"
     ]
    }
   ],
   "source": [
    "# Building the model\n",
    "model = Sequential([\n",
    "    Conv2D(filters = 16, kernel_size = (3,3), padding = 'Same', activation ='relu', input_shape = (28,28,1)), \n",
    "    MaxPool2D((2, 2)),\n",
    "    \n",
    "    BatchNormalization(),\n",
    "    \n",
    "    Conv2D(filters = 32, kernel_size = (3,3), padding = 'Same', activation ='relu', input_shape = (28,28,1)), \n",
    "    MaxPool2D((2, 2)),\n",
    "    \n",
    "    Dropout(0.3),\n",
    "    \n",
    "    Conv2D(filters = 64, kernel_size = (3,3), padding = 'Same', activation ='relu', input_shape = (28,28,1)), \n",
    "    MaxPool2D((2, 2)),\n",
    "    \n",
    "    BatchNormalization(),\n",
    "\n",
    "    Conv2D(filters = 128, kernel_size = (3,3), padding = 'Same', activation ='relu', input_shape = (28,28,1)), \n",
    "    MaxPool2D((2, 2)),\n",
    "    \n",
    "    \n",
    "    Flatten(),\n",
    "    \n",
    "    Dropout(0.3),\n",
    "    \n",
    "    Dense(784, activation='relu'),\n",
    "    Dropout(0.5),\n",
    "    Dense(256, activation='relu'),\n",
    "    Dropout(0.3),\n",
    "    Dense(256, activation='relu'),\n",
    "    Dense(25, activation='softmax')\n",
    "])"
   ]
  },
  {
   "cell_type": "code",
   "execution_count": 13,
   "id": "1453652e",
   "metadata": {
    "execution": {
     "iopub.execute_input": "2022-07-28T04:54:49.851584Z",
     "iopub.status.busy": "2022-07-28T04:54:49.851288Z",
     "iopub.status.idle": "2022-07-28T04:54:49.865265Z",
     "shell.execute_reply": "2022-07-28T04:54:49.864562Z"
    },
    "papermill": {
     "duration": 0.021678,
     "end_time": "2022-07-28T04:54:49.867042",
     "exception": false,
     "start_time": "2022-07-28T04:54:49.845364",
     "status": "completed"
    },
    "tags": []
   },
   "outputs": [],
   "source": [
    "epochs = 30 # Turn epochs to 30 to get 0.999 accuracy\n",
    "batch_size = 64\n",
    "\n",
    "# Compile the model\n",
    "model.compile(optimizer = 'RMSprop' , loss = \"categorical_crossentropy\", metrics=[\"accuracy\"])\n",
    " \n",
    "# Set a learning rate annealer\n",
    "learning_rate_reduction = ReduceLROnPlateau(monitor='val_accuracy', patience = 3, verbose=1,factor=0.5, min_lr=0.00001)"
   ]
  },
  {
   "cell_type": "code",
   "execution_count": 14,
   "id": "d13640d5",
   "metadata": {
    "execution": {
     "iopub.execute_input": "2022-07-28T04:54:49.877581Z",
     "iopub.status.busy": "2022-07-28T04:54:49.877133Z",
     "iopub.status.idle": "2022-07-28T04:58:39.590542Z",
     "shell.execute_reply": "2022-07-28T04:58:39.589695Z"
    },
    "papermill": {
     "duration": 229.720609,
     "end_time": "2022-07-28T04:58:39.592446",
     "exception": false,
     "start_time": "2022-07-28T04:54:49.871837",
     "status": "completed"
    },
    "tags": []
   },
   "outputs": [
    {
     "name": "stderr",
     "output_type": "stream",
     "text": [
      "/opt/conda/lib/python3.7/site-packages/keras/engine/training.py:1972: UserWarning: `Model.fit_generator` is deprecated and will be removed in a future version. Please use `Model.fit`, which supports generators.\n",
      "  warnings.warn('`Model.fit_generator` is deprecated and '\n",
      "2022-07-28 04:54:49.997384: I tensorflow/compiler/mlir/mlir_graph_optimization_pass.cc:185] None of the MLIR Optimization Passes are enabled (registered 2)\n"
     ]
    },
    {
     "name": "stdout",
     "output_type": "stream",
     "text": [
      "Epoch 1/30\n"
     ]
    },
    {
     "name": "stderr",
     "output_type": "stream",
     "text": [
      "2022-07-28 04:54:51.967018: I tensorflow/stream_executor/cuda/cuda_dnn.cc:369] Loaded cuDNN version 8005\n"
     ]
    },
    {
     "name": "stdout",
     "output_type": "stream",
     "text": [
      "344/344 [==============================] - 15s 22ms/step - loss: 2.0384 - accuracy: 0.3302 - val_loss: 5.0845 - val_accuracy: 0.0820\n",
      "Epoch 2/30\n",
      "344/344 [==============================] - 7s 20ms/step - loss: 0.9153 - accuracy: 0.6714 - val_loss: 0.5692 - val_accuracy: 0.7922\n",
      "Epoch 3/30\n",
      "344/344 [==============================] - 7s 21ms/step - loss: 0.6241 - accuracy: 0.7832 - val_loss: 0.2301 - val_accuracy: 0.9157\n",
      "Epoch 4/30\n",
      "344/344 [==============================] - 7s 20ms/step - loss: 0.4712 - accuracy: 0.8425 - val_loss: 0.1366 - val_accuracy: 0.9441\n",
      "Epoch 5/30\n",
      "344/344 [==============================] - 7s 20ms/step - loss: 0.3707 - accuracy: 0.8803 - val_loss: 0.3381 - val_accuracy: 0.8916\n",
      "Epoch 6/30\n",
      "344/344 [==============================] - 7s 21ms/step - loss: 0.3150 - accuracy: 0.9009 - val_loss: 0.4400 - val_accuracy: 0.8723\n",
      "Epoch 7/30\n",
      "344/344 [==============================] - 7s 21ms/step - loss: 0.2801 - accuracy: 0.9166 - val_loss: 0.1190 - val_accuracy: 0.9616\n",
      "Epoch 8/30\n",
      "344/344 [==============================] - 7s 21ms/step - loss: 0.2590 - accuracy: 0.9243 - val_loss: 0.0347 - val_accuracy: 0.9880\n",
      "Epoch 9/30\n",
      "344/344 [==============================] - 7s 21ms/step - loss: 0.2337 - accuracy: 0.9314 - val_loss: 0.7643 - val_accuracy: 0.7948\n",
      "Epoch 10/30\n",
      "344/344 [==============================] - 7s 21ms/step - loss: 0.2209 - accuracy: 0.9374 - val_loss: 0.0269 - val_accuracy: 0.9929\n",
      "Epoch 11/30\n",
      "344/344 [==============================] - 7s 20ms/step - loss: 0.2117 - accuracy: 0.9415 - val_loss: 0.0866 - val_accuracy: 0.9752\n",
      "Epoch 12/30\n",
      "344/344 [==============================] - 8s 22ms/step - loss: 0.2062 - accuracy: 0.9440 - val_loss: 0.0375 - val_accuracy: 0.9852\n",
      "Epoch 13/30\n",
      "344/344 [==============================] - 7s 20ms/step - loss: 0.1906 - accuracy: 0.9483 - val_loss: 0.8720 - val_accuracy: 0.7454\n",
      "\n",
      "Epoch 00013: ReduceLROnPlateau reducing learning rate to 0.0005000000237487257.\n",
      "Epoch 14/30\n",
      "344/344 [==============================] - 7s 20ms/step - loss: 0.1460 - accuracy: 0.9616 - val_loss: 0.0068 - val_accuracy: 0.9982\n",
      "Epoch 15/30\n",
      "344/344 [==============================] - 7s 21ms/step - loss: 0.1299 - accuracy: 0.9668 - val_loss: 0.0101 - val_accuracy: 0.9975\n",
      "Epoch 16/30\n",
      "344/344 [==============================] - 8s 22ms/step - loss: 0.1221 - accuracy: 0.9682 - val_loss: 0.0027 - val_accuracy: 0.9991\n",
      "Epoch 17/30\n",
      "344/344 [==============================] - 7s 20ms/step - loss: 0.1189 - accuracy: 0.9710 - val_loss: 0.0022 - val_accuracy: 0.9996\n",
      "Epoch 18/30\n",
      "344/344 [==============================] - 7s 21ms/step - loss: 0.1182 - accuracy: 0.9722 - val_loss: 0.0093 - val_accuracy: 0.9964\n",
      "Epoch 19/30\n",
      "344/344 [==============================] - 7s 21ms/step - loss: 0.1186 - accuracy: 0.9717 - val_loss: 0.0035 - val_accuracy: 0.9993\n",
      "Epoch 20/30\n",
      "344/344 [==============================] - 7s 21ms/step - loss: 0.1158 - accuracy: 0.9720 - val_loss: 0.0065 - val_accuracy: 0.9976\n",
      "\n",
      "Epoch 00020: ReduceLROnPlateau reducing learning rate to 0.0002500000118743628.\n",
      "Epoch 21/30\n",
      "344/344 [==============================] - 7s 21ms/step - loss: 0.0986 - accuracy: 0.9756 - val_loss: 0.0105 - val_accuracy: 0.9962\n",
      "Epoch 22/30\n",
      "344/344 [==============================] - 7s 21ms/step - loss: 0.0913 - accuracy: 0.9778 - val_loss: 6.0643e-04 - val_accuracy: 0.9998\n",
      "Epoch 23/30\n",
      "344/344 [==============================] - 7s 21ms/step - loss: 0.0852 - accuracy: 0.9804 - val_loss: 0.0024 - val_accuracy: 0.9989\n",
      "Epoch 24/30\n",
      "344/344 [==============================] - 7s 21ms/step - loss: 0.0872 - accuracy: 0.9789 - val_loss: 0.0102 - val_accuracy: 0.9969\n",
      "Epoch 25/30\n",
      "344/344 [==============================] - 7s 21ms/step - loss: 0.0875 - accuracy: 0.9810 - val_loss: 9.8625e-04 - val_accuracy: 0.9998\n",
      "\n",
      "Epoch 00025: ReduceLROnPlateau reducing learning rate to 0.0001250000059371814.\n",
      "Epoch 26/30\n",
      "344/344 [==============================] - 7s 21ms/step - loss: 0.0878 - accuracy: 0.9805 - val_loss: 6.0481e-04 - val_accuracy: 0.9998\n",
      "Epoch 27/30\n",
      "344/344 [==============================] - 7s 20ms/step - loss: 0.0719 - accuracy: 0.9822 - val_loss: 0.0054 - val_accuracy: 0.9987\n",
      "Epoch 28/30\n",
      "344/344 [==============================] - 7s 21ms/step - loss: 0.0737 - accuracy: 0.9838 - val_loss: 0.0020 - val_accuracy: 0.9993\n",
      "\n",
      "Epoch 00028: ReduceLROnPlateau reducing learning rate to 6.25000029685907e-05.\n",
      "Epoch 29/30\n",
      "344/344 [==============================] - 8s 24ms/step - loss: 0.0647 - accuracy: 0.9849 - val_loss: 9.7126e-04 - val_accuracy: 0.9995\n",
      "Epoch 30/30\n",
      "344/344 [==============================] - 7s 21ms/step - loss: 0.0806 - accuracy: 0.9826 - val_loss: 0.0034 - val_accuracy: 0.9993\n"
     ]
    }
   ],
   "source": [
    "# Fit the model\n",
    "history = model.fit_generator(\n",
    "    training_gen.flow(X_train, y_train, batch_size=batch_size),\n",
    "    epochs = epochs, \n",
    "    validation_data = (X_val, y_val),\n",
    "    verbose = 1,\n",
    "    callbacks=[learning_rate_reduction]\n",
    ")"
   ]
  },
  {
   "cell_type": "code",
   "execution_count": 15,
   "id": "ccabcfcb",
   "metadata": {
    "execution": {
     "iopub.execute_input": "2022-07-28T04:58:40.082835Z",
     "iopub.status.busy": "2022-07-28T04:58:40.082472Z",
     "iopub.status.idle": "2022-07-28T04:58:40.300445Z",
     "shell.execute_reply": "2022-07-28T04:58:40.299499Z"
    },
    "papermill": {
     "duration": 0.491736,
     "end_time": "2022-07-28T04:58:40.302476",
     "exception": false,
     "start_time": "2022-07-28T04:58:39.810740",
     "status": "completed"
    },
    "tags": []
   },
   "outputs": [
    {
     "data": {
      "image/png": "[encoded data removed]",
      "text/plain": [
       "<Figure size 432x288 with 1 Axes>"
      ]
     },
     "metadata": {
      "needs_background": "light"
     },
     "output_type": "display_data"
    },
    {
     "data": {
      "text/plain": [
       "<Figure size 432x288 with 0 Axes>"
      ]
     },
     "metadata": {},
     "output_type": "display_data"
    }
   ],
   "source": [
    "# Plotting the accuracy on the training and the validation sets to see if there is a sign of overfitting\n",
    "import matplotlib.pyplot as plt\n",
    "\n",
    "# Plot the results\n",
    "acc = history.history['accuracy']\n",
    "val_acc = history.history['val_accuracy']\n",
    "loss = history.history['loss']\n",
    "val_loss = history.history['val_loss']\n",
    "\n",
    "epochs = range(len(acc))\n",
    "\n",
    "plt.plot(epochs, acc, 'r', label='Training accuracy')\n",
    "plt.plot(epochs, val_acc, 'b', label='Validation accuracy')\n",
    "plt.title('Training and validation accuracy')\n",
    "plt.legend(loc=0)\n",
    "plt.figure()\n",
    "\n",
    "plt.show()"
   ]
  },
  {
   "cell_type": "code",
   "execution_count": 16,
   "id": "9d4d7b34",
   "metadata": {
    "execution": {
     "iopub.execute_input": "2022-07-28T04:58:40.731802Z",
     "iopub.status.busy": "2022-07-28T04:58:40.731355Z",
     "iopub.status.idle": "2022-07-28T04:58:41.697954Z",
     "shell.execute_reply": "2022-07-28T04:58:41.697085Z"
    },
    "papermill": {
     "duration": 1.184319,
     "end_time": "2022-07-28T04:58:41.700598",
     "exception": false,
     "start_time": "2022-07-28T04:58:40.516279",
     "status": "completed"
    },
    "tags": []
   },
   "outputs": [],
   "source": [
    "# Preparing the test data to evaluate how good is our model.\n",
    "\n",
    "test = pd.read_csv(\"../input/sign-language-mnist/sign_mnist_test/sign_mnist_test.csv\")\n",
    "X_test = test.drop('label', axis=1)\n",
    "y_test = test['label']\n",
    "X_test = X_test.values.reshape(-1, 28, 28, 1)\n",
    "X_test = X_test / 255.0\n",
    "y_test = to_categorical(y_test, num_classes=25)"
   ]
  },
  {
   "cell_type": "code",
   "execution_count": 17,
   "id": "110d6488",
   "metadata": {
    "execution": {
     "iopub.execute_input": "2022-07-28T04:58:42.175868Z",
     "iopub.status.busy": "2022-07-28T04:58:42.175274Z",
     "iopub.status.idle": "2022-07-28T04:58:43.556183Z",
     "shell.execute_reply": "2022-07-28T04:58:43.555357Z"
    },
    "papermill": {
     "duration": 1.634058,
     "end_time": "2022-07-28T04:58:43.558950",
     "exception": false,
     "start_time": "2022-07-28T04:58:41.924892",
     "status": "completed"
    },
    "tags": []
   },
   "outputs": [
    {
     "name": "stdout",
     "output_type": "stream",
     "text": [
      "225/225 [==============================] - 1s 3ms/step - loss: 0.0013 - accuracy: 0.9996\n",
      "Accuracy of the model is -  99.95816946029663 %\n"
     ]
    }
   ],
   "source": [
    "# Evaluating the Accuracy on the test data\n",
    "print(\"Accuracy of the model is - \" , model.evaluate(X_test,y_test)[1]*100 , \"%\")"
   ]
  }
 ],
 "metadata": {
  "kernelspec": {
   "display_name": "Python 3",
   "language": "python",
   "name": "python3"
  },
  "language_info": {
   "codemirror_mode": {
    "name": "ipython",
    "version": 3
   },
   "file_extension": ".py",
   "mimetype": "text/x-python",
   "name": "python",
   "nbconvert_exporter": "python",
   "pygments_lexer": "ipython3",
   "version": "3.7.12"
  },
  "papermill": {
   "default_parameters": {},
   "duration": 257.604636,
   "end_time": "2022-07-28T04:58:46.641659",
   "environment_variables": {},
   "exception": null,
   "input_path": "__notebook__.ipynb",
   "output_path": "__notebook__.ipynb",
   "parameters": {},
   "start_time": "2022-07-28T04:54:29.037023",
   "version": "2.3.4"
  }
 },
 "nbformat": 4,
 "nbformat_minor": 5
}
